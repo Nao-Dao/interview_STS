{
 "cells": [
  {
   "cell_type": "code",
   "execution_count": 23,
   "metadata": {},
   "outputs": [],
   "source": [
    "import requests"
   ]
  },
  {
   "cell_type": "code",
   "execution_count": 26,
   "metadata": {},
   "outputs": [
    {
     "name": "stdout",
     "output_type": "stream",
     "text": [
      "也许我们可以换个话题，\n",
      "比如最近有没有什么让你感到开心或满足的事情？\n"
     ]
    }
   ],
   "source": [
    "# LLM 获取\n",
    "resp = requests.get(\n",
    "    \"http://127.0.0.1:8000/api/llm\",\n",
    "    data = {\n",
    "        \"cid\": \"280213929609658368\"\n",
    "    },\n",
    "    stream=True\n",
    ")\n",
    "\n",
    "for iter in resp.iter_content(1024):\n",
    "    print(iter.decode())"
   ]
  },
  {
   "cell_type": "code",
   "execution_count": 27,
   "metadata": {},
   "outputs": [
    {
     "data": {
      "text/plain": [
       "'280213929609658368'"
      ]
     },
     "execution_count": 27,
     "metadata": {},
     "output_type": "execute_result"
    }
   ],
   "source": [
    "# LLM 聊天\n",
    "resp = requests.put(\n",
    "    \"http://127.0.0.1:8000/api/llm\",\n",
    "    data = {\n",
    "        \"cid\": \"280213929609658368\",\n",
    "        \"msg\": \"不想分享\"\n",
    "    }\n",
    ")\n",
    "resp.text"
   ]
  },
  {
   "cell_type": "code",
   "execution_count": 3,
   "metadata": {},
   "outputs": [
    {
     "data": {
      "text/plain": [
       "'{\"result\":{\"raw_text\":\"<|en|><|NEUTRAL|><|Speech|><|woitn|>the tribal chieftain called for the boy and presented him with fifty pieces of gold\",\"text\":\"the tribal chieftain called for the boy and presented him with fifty pieces of gold\",\"clean_text\":\"the tribal chieftain called for the boy and presented him with fifty pieces of gold\"}}'"
      ]
     },
     "execution_count": 3,
     "metadata": {},
     "output_type": "execute_result"
    }
   ],
   "source": [
    "# ASR\n",
    "import requests\n",
    "file = \"model_pretrained/SenseVoiceSmall/example/en.mp3\"\n",
    "\n",
    "resp = requests.post(\"http://127.0.0.1:8000/api/asr\", files = [\n",
    "    (\"files\", (file, open(file, \"rb\"), \"audio/wav\"))\n",
    "], data = {\n",
    "    \"keys\": [\"moss\"],\n",
    "    \"cid\": 1234567890\n",
    "})\n",
    "resp.text"
   ]
  },
  {
   "cell_type": "code",
   "execution_count": 7,
   "metadata": {},
   "outputs": [
    {
     "data": {
      "text/plain": [
       "'[{\"key\":\"279970894086930432\",\"text\":\"<|zh|><|NEUTRAL|><|Speech|><|withitn|>开放时间早上9点至下午5点。\"}]'"
      ]
     },
     "execution_count": 7,
     "metadata": {},
     "output_type": "execute_result"
    }
   ],
   "source": [
    "# ASR\n",
    "file = \"model_pretrained/SenseVoiceSmall/example/zh.mp3\"\n",
    "\n",
    "resp = requests.post(\"http://127.0.0.1:8000/api/asr/v2\", files = [\n",
    "    (\"files\", (file, open(file, \"rb\"), \"audio/wav\"))\n",
    "], data = {\n",
    "    \"lang\": \"auto\"\n",
    "})\n",
    "resp.text"
   ]
  },
  {
   "cell_type": "code",
   "execution_count": null,
   "metadata": {},
   "outputs": [],
   "source": [
    "# TTS\n",
    "resp = requests.post(\"http://127.0.0.1:8000/api/tts/vits\", json = {\n",
    "    \"text\": \"我的天哪，你到底在做什么呀\",\n",
    "    \"seed\": 15644,\n",
    "    \"text_lang\": \"zh\",\n",
    "    \"batch_size\": 2,\n",
    "    \"media_type\": \"wav\",\n",
    "    \"streaming_mode\": True\n",
    "})\n",
    "\n",
    "resp = requests.get(\"http://127.0.0.1:8000/api/tts/vits?id={}\".format(resp.json()[\"id\"]))\n",
    "with open(\"TEMP/a.wav\", \"wb\") as f:\n",
    "    for iter in resp.iter_content(1024):\n",
    "        f.write(iter)"
   ]
  },
  {
   "cell_type": "code",
   "execution_count": 2,
   "metadata": {},
   "outputs": [],
   "source": [
    "# TTS\n",
    "resp = requests.post(\"http://127.0.0.1:8000/api/tts/cosy\",\n",
    "                    data = {\n",
    "                        \"tts_text\": \"我的天哪，你到底在做什么呀\",\n",
    "                        \"instruct_text\": \"惊悚的语音\",\n",
    "                        \"stream\": True\n",
    "                    })\n",
    "\n",
    "with open(\"TEMP/b.wav\", \"wb\") as f:\n",
    "    for iter in resp.iter_content(1024):\n",
    "        f.write(iter)"
   ]
  }
 ],
 "metadata": {
  "kernelspec": {
   "display_name": "sts",
   "language": "python",
   "name": "python3"
  },
  "language_info": {
   "codemirror_mode": {
    "name": "ipython",
    "version": 3
   },
   "file_extension": ".py",
   "mimetype": "text/x-python",
   "name": "python",
   "nbconvert_exporter": "python",
   "pygments_lexer": "ipython3",
   "version": "3.10.16"
  }
 },
 "nbformat": 4,
 "nbformat_minor": 2
}
